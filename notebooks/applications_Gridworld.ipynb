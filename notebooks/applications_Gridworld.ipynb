{
 "cells": [
  {
   "cell_type": "markdown",
   "metadata": {},
   "source": [
    "# Gridworld (page 105) "
   ]
  },
  {
   "cell_type": "markdown",
   "metadata": {},
   "source": [
    "![gridworld](./images/gridworld.png)"
   ]
  },
  {
   "cell_type": "code",
   "execution_count": 2,
   "metadata": {},
   "outputs": [
    {
     "name": "stdout",
     "output_type": "stream",
     "text": [
      "Random Policy\n",
      "[[  0.         -13.99990931 -19.99986561 -21.99984961]\n",
      " [-13.99990931 -17.99988161 -19.99986651 -19.99986561]\n",
      " [-19.99986561 -19.99986651 -17.99988161 -13.99990931]\n",
      " [-21.99984961 -19.99986561 -13.99990931   0.        ]]\n"
     ]
    }
   ],
   "source": [
    "#######################################################################\n",
    "# Copyright (C)                                                       #\n",
    "# 2016 Shangtong Zhang(zhangshangtong.cpp@gmail.com)                  #\n",
    "# 2016 Kenta Shimada(hyperkentakun@gmail.com)                         #\n",
    "# Permission given to modify the code as long as you keep this        #\n",
    "# declaration at the top                                              #\n",
    "#######################################################################\n",
    "\n",
    "from __future__ import print_function\n",
    "import numpy as np\n",
    "\n",
    "WORLD_SIZE = 4\n",
    "REWARD = -1.0\n",
    "ACTION_PROB = 0.25\n",
    "\n",
    "world = np.zeros((WORLD_SIZE, WORLD_SIZE))\n",
    "\n",
    "# left, up, right, down\n",
    "actions = ['L', 'U', 'R', 'D']\n",
    "\n",
    "nextState = []\n",
    "for i in range(0, WORLD_SIZE):\n",
    "    nextState.append([])\n",
    "    for j in range(0, WORLD_SIZE):\n",
    "        next = dict()\n",
    "        if i == 0:\n",
    "            next['U'] = [i, j]\n",
    "        else:\n",
    "            next['U'] = [i - 1, j]\n",
    "\n",
    "        if i == WORLD_SIZE - 1:\n",
    "            next['D'] = [i, j]\n",
    "        else:\n",
    "            next['D'] = [i + 1, j]\n",
    "\n",
    "        if j == 0:\n",
    "            next['L'] = [i, j]\n",
    "        else:\n",
    "            next['L'] = [i, j - 1]\n",
    "\n",
    "        if j == WORLD_SIZE - 1:\n",
    "            next['R'] = [i, j]\n",
    "        else:\n",
    "            next['R'] = [i, j + 1]\n",
    "\n",
    "        nextState[i].append(next)\n",
    "\n",
    "states = []\n",
    "for i in range(0, WORLD_SIZE):\n",
    "    for j in range(0, WORLD_SIZE):\n",
    "        if (i == 0 and j == 0) or (i == WORLD_SIZE - 1 and j == WORLD_SIZE - 1):\n",
    "            continue\n",
    "        else:\n",
    "            states.append([i, j])\n",
    "\n",
    "# for figure 4.1\n",
    "while True:\n",
    "    # keep iteration until convergence\n",
    "    newWorld = np.zeros((WORLD_SIZE, WORLD_SIZE))\n",
    "    for i, j in states:\n",
    "        for action in actions:\n",
    "            newPosition = nextState[i][j][action]\n",
    "            # bellman equation\n",
    "            newWorld[i, j] += ACTION_PROB * (REWARD + world[newPosition[0], newPosition[1]])\n",
    "    if np.sum(np.abs(world - newWorld)) < 1e-4:\n",
    "        print('Random Policy')\n",
    "        print(newWorld)\n",
    "        break\n",
    "    world = newWorld"
   ]
  }
 ],
 "metadata": {
  "kernelspec": {
   "display_name": "Python 3",
   "language": "python",
   "name": "python3"
  },
  "language_info": {
   "codemirror_mode": {
    "name": "ipython",
    "version": 3
   },
   "file_extension": ".py",
   "mimetype": "text/x-python",
   "name": "python",
   "nbconvert_exporter": "python",
   "pygments_lexer": "ipython3",
   "version": "3.6.4"
  }
 },
 "nbformat": 4,
 "nbformat_minor": 2
}
